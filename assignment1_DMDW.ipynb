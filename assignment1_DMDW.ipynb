{
  "nbformat": 4,
  "nbformat_minor": 0,
  "metadata": {
    "colab": {
      "name": "assignment1.DMDW.ipynb",
      "provenance": [],
      "authorship_tag": "ABX9TyMixKb8e0jQBgs4W6bMgL6N",
      "include_colab_link": true
    },
    "kernelspec": {
      "name": "python3",
      "display_name": "Python 3"
    }
  },
  "cells": [
    {
      "cell_type": "markdown",
      "metadata": {
        "id": "view-in-github",
        "colab_type": "text"
      },
      "source": [
        "<a href=\"https://colab.research.google.com/github/cs-mama/chandan1/blob/main/assignment1_DMDW.ipynb\" target=\"_parent\"><img src=\"https://colab.research.google.com/assets/colab-badge.svg\" alt=\"Open In Colab\"/></a>"
      ]
    },
    {
      "cell_type": "code",
      "metadata": {
        "id": "V_hKG-gq181x"
      },
      "source": [
        "#ASSIGNMENT 1\n",
        "#mean median and mode without using the library\n",
        "a=list(map(int,input().split(\",\")))\n",
        "n=len(a)\n",
        "a.sort()\n",
        "avg1=sum(a)//len(a)     #MEAN\n",
        "if len(a)%2==1:\n",
        "    median=a[(n+1)//2]\n",
        "else:\n",
        "    median=a[(n-1)//2]+a[(n+1)//2]/2    #MEDIAN\n",
        "print(median)\n",
        "print(avg1)\n"
      ],
      "execution_count": null,
      "outputs": []
    },
    {
      "cell_type": "code",
      "metadata": {
        "id": "1HDL81WJwJjZ"
      },
      "source": [
        "#MODE\n",
        "from collections import Counter\n",
        "a = list(map(int,input().split(\",\")))\n",
        "n = len(a)\n",
        "data = Counter(a)\n",
        "get_mode = dict(data)\n",
        "mode = [k for k, v in get_mode.items() if v==max(list(data.values()))]\n",
        "if len(mode) == n:\n",
        "  get_mode=\"No mode found\"\n",
        "else:\n",
        "  get_mode = \"Mode is / are: \" + ', '.join(map(str,mode))\n",
        "print(get_mode)"
      ],
      "execution_count": null,
      "outputs": []
    },
    {
      "cell_type": "code",
      "metadata": {
        "id": "VD2nTD-OxLd8"
      },
      "source": [
        "#STANDARD DEVIATION\n",
        "import math\n",
        "a=list(map(int,input().split(\",\")))\n",
        "mean = sum(test_list) / len(test_list) \n",
        "variance = sum([((x - mean) ** 2) for x in test_list]) / len(test_list) \n",
        "res = variance ** 0.5\n",
        "print(\"standard deviation \"+str(res))\n",
        "#VARIANCE\n",
        "print(\"variance \"+math.sqrt(res))\n"
      ],
      "execution_count": null,
      "outputs": []
    },
    {
      "cell_type": "code",
      "metadata": {
        "id": "rMB4GZwA0dvQ"
      },
      "source": [
        "#MEAN MEDIAN standard deviation and variance using library functions\n",
        "import numpy as np\n",
        "a=list(map(int,input().split(\",\")))\n",
        "avg=np.mean(a)\n",
        "med=np.median(a)\n",
        "sd=np.std(a)\n",
        "V=np.var(a)\n",
        "print(\"mean is\"+avg)\n",
        "print(\"median is\"+med)\n",
        "print(\"standard deviation is\"+sd)\n",
        "print(\"variance is\"+V)\n"
      ],
      "execution_count": null,
      "outputs": []
    },
    {
      "cell_type": "code",
      "metadata": {
        "id": "PkAlOypo1QWV"
      },
      "source": [
        "import scipy as stats\n",
        "a=list(map(int,input().split(\",\")))\n",
        "m=stats.mode(a)\n",
        "print(\"mode is\"+m)"
      ],
      "execution_count": null,
      "outputs": []
    }
  ]
}